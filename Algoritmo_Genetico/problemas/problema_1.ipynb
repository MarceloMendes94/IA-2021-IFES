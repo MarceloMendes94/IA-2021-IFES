{
 "cells": [
  {
   "cell_type": "markdown",
   "id": "b877de3b-f30d-4b7f-9b6e-d1c308a30f71",
   "metadata": {},
   "source": [
    "# Problema 1  \n",
    "![imagem](../img/001.png)"
   ]
  },
  {
   "cell_type": "code",
   "execution_count": 1,
   "id": "1827524e-5853-4e77-9209-26c5ab596827",
   "metadata": {},
   "outputs": [],
   "source": [
    "import numpy as np"
   ]
  },
  {
   "cell_type": "code",
   "execution_count": 2,
   "id": "73c05313-ba8f-42ce-8962-803cf63159fe",
   "metadata": {},
   "outputs": [
    {
     "data": {
      "text/plain": [
       "('00100', '00111')"
      ]
     },
     "execution_count": 2,
     "metadata": {},
     "output_type": "execute_result"
    }
   ],
   "source": [
    "#convertendo inteiros para binário\n",
    "def to_bin(n, size):\n",
    "    exit=''\n",
    "    for exp in range(size-1,-1,-1):\n",
    "        if 2**exp > n:\n",
    "            exit=exit+\"0\"\n",
    "        else:\n",
    "            n = n - 2**exp\n",
    "            exit=exit+\"1\" \n",
    "    return exit \n",
    "\n",
    "# Teste conversão de 7 e 4 para binário usando um size de 5 bits.\n",
    "to_bin(4, 5),to_bin(7, 5)"
   ]
  },
  {
   "cell_type": "code",
   "execution_count": 3,
   "id": "57e47070-5ab1-4eff-85b5-c52dc14c0865",
   "metadata": {},
   "outputs": [
    {
     "data": {
      "text/plain": [
       "(4, 7)"
      ]
     },
     "execution_count": 3,
     "metadata": {},
     "output_type": "execute_result"
    }
   ],
   "source": [
    "def to_decimal(b,size):\n",
    "    lista = [ 2**i for i in range(size)]\n",
    "    lista.sort(reverse=True) \n",
    "    saida = 0\n",
    "    for pos in range(len(b)):\n",
    "        saida += lista[pos] if int(b[pos])==1 else 0            \n",
    "    return saida       \n",
    "#Teste de conversão de '00100' e '00111' para binário com tamnho de 5 bits\n",
    "to_decimal('00100',5), to_decimal('00111',5)"
   ]
  },
  {
   "cell_type": "code",
   "execution_count": 4,
   "id": "e54d62fa-2862-4241-88d6-f9faf827535f",
   "metadata": {},
   "outputs": [
    {
     "data": {
      "text/plain": [
       "array([22, 21, 22, 22,  8, 25, 20,  4, 16, 25])"
      ]
     },
     "execution_count": 4,
     "metadata": {},
     "output_type": "execute_result"
    }
   ],
   "source": [
    "def populacao_inicial(pop,n_bits):\n",
    "    return np.random.randint((2**n_bits)-1, size=pop)\n",
    "\n",
    "# Teste criando uma população fake de 10 individuos com 5 bits de tamanho.\n",
    "populacao_inicial(10,5)"
   ]
  },
  {
   "cell_type": "code",
   "execution_count": 5,
   "id": "d842ea91-7c96-4ab3-8b78-079e12077cd9",
   "metadata": {},
   "outputs": [
    {
     "data": {
      "text/plain": [
       "{'00001': 1, '00010': 4, '00011': 9, '00100': 16, '00101': 25, '00111': 49}"
      ]
     },
     "execution_count": 5,
     "metadata": {},
     "output_type": "execute_result"
    }
   ],
   "source": [
    "def fit_func(pop,dicio,size):\n",
    "    for i in pop:\n",
    "        dicio[i] = to_decimal(i,size)**2 \n",
    "    return dicio\n",
    "#Teste gerando uma tabela de fitness de um array em binário 1 2 3 4 5 6\n",
    "fit_func(['00001','00010','00011','00100','00101','00111'],{},5)"
   ]
  },
  {
   "cell_type": "code",
   "execution_count": 6,
   "id": "d4924d5e-a90b-479d-a46f-04a9af0f68ee",
   "metadata": {},
   "outputs": [
    {
     "data": {
      "text/plain": [
       "4"
      ]
     },
     "execution_count": 6,
     "metadata": {},
     "output_type": "execute_result"
    }
   ],
   "source": [
    "def torneo(pop,dicio):\n",
    "    first = np.random.choice(pop)\n",
    "    second = np.random.choice(pop)\n",
    "    #igualdade\n",
    "    while(first==second):\n",
    "        second = np.random.choice(pop)\n",
    "    w1 = first if dicio[first] > dicio[second] else second \n",
    "    #igualdade\n",
    "    w2 = w1\n",
    "    while (w1==w2):\n",
    "        third = np.random.choice(pop)\n",
    "        quarter = np.random.choice(pop)  \n",
    "        while(third==quarter):\n",
    "            quarter = np.random.choice(pop)\n",
    "        w2 = third if dicio[third] > dicio[quarter] else quarter\n",
    "    return (w1,w2)\n",
    "\n",
    "def selection(pop,dicio,size):\n",
    "    np.random.shuffle(pop)\n",
    "    lst = []   \n",
    "    \n",
    "    for i in range(int( len(pop)//2 )):\n",
    "        couple = torneo(pop,dicio)\n",
    "        while(couple in lst):\n",
    "            couple = torneo(pop,dicio)\n",
    "        #couple=(0,0)\n",
    "        lst.append(couple)\n",
    "    \n",
    "    return np.asarray(lst)\n",
    "\n",
    "#Teste Seleção uma tabela de fitness de um array em binário 1 2 3 4 5 6 7 8\n",
    "myarr = [to_bin(i,5) for i in range(1,9)]\n",
    "teste = selection(myarr, fit_func(myarr,{},5), 5)\n",
    "len(teste)"
   ]
  },
  {
   "cell_type": "code",
   "execution_count": 7,
   "id": "3bacf107-4d19-4efb-9ba8-cafe1e9fe086",
   "metadata": {},
   "outputs": [
    {
     "name": "stdout",
     "output_type": "stream",
     "text": [
      "[['00101' '00010']\n",
      " ['01000' '00010']\n",
      " ['00011' '00111']\n",
      " ['01000' '00110']]\n",
      "4\n",
      "\n",
      "\n",
      "['00010' '00101' '01010' '00000' '00111' '00011' '01110' '00000']\n",
      "\n",
      "\n",
      "8\n",
      "\n"
     ]
    }
   ],
   "source": [
    "def crossover(couple_list,size,cross_tx):\n",
    "    #np.random.shuffle(pop)\n",
    "    cut = int(size*cross_tx)\n",
    "    lst = []\n",
    "    for couple in couple_list:\n",
    "        lst.append(couple[0][:cut]+couple[1][cut:])\n",
    "        lst.append(couple[1][:cut]+couple[0][cut:])\n",
    "\n",
    "    return np.asarray(lst)\n",
    "\n",
    "# teste\n",
    "cruzamento = crossover(teste,5,0.4)\n",
    "print(f\"{teste}\\n{len(teste)}\\n\\n\\n{cruzamento}\\n\\n\\n{len(cruzamento)}\\n\")"
   ]
  },
  {
   "cell_type": "markdown",
   "id": "7eb5c836-e027-4438-b765-eb3594986ade",
   "metadata": {},
   "source": [
    "![imagem](../img/002.png)"
   ]
  },
  {
   "cell_type": "code",
   "execution_count": 8,
   "id": "23149c46-cbf9-4dfc-93fb-7e5be3ef137a",
   "metadata": {},
   "outputs": [],
   "source": [
    "def algoritmo_genetico(n_bits,geracoes,cross_tx,tam_pop):\n",
    "    dicio_gen = {}\n",
    "    \n",
    "    #inicialização da população\n",
    "    pop = np.asarray([to_bin(i,n_bits) for i in populacao_inicial(tam_pop,5) ])\n",
    "    for i in range(geracoes):    \n",
    "        #avaliacao\n",
    "        fitness = fit_func(pop,{},n_bits)\n",
    "        #seleção\n",
    "        couple_list = selection(pop,fitness,n_bits)\n",
    "        #crossover\n",
    "        next_gen = crossover(couple_list,n_bits,cross_tx)\n",
    "        pop = next_gen\n",
    "        dicio_gen[i+1] = fitness\n",
    "    \n",
    "    \n",
    "    return dicio_gen#pop,fitness,couple_list"
   ]
  },
  {
   "cell_type": "code",
   "execution_count": null,
   "id": "2fb5531c-aaa9-4b83-a77f-58e090bb392a",
   "metadata": {},
   "outputs": [],
   "source": [
    "exemplo = algoritmo_genetico(5,4,0.4,8)"
   ]
  },
  {
   "cell_type": "code",
   "execution_count": null,
   "id": "648fe7b8-fb63-4083-901f-ded11beb781e",
   "metadata": {},
   "outputs": [],
   "source": [
    "[ len(exemplo[i].keys()) for i in exemplo]"
   ]
  },
  {
   "cell_type": "code",
   "execution_count": null,
   "id": "2d41ad8c-6cfa-44a1-ab8a-e3002d0bbee7",
   "metadata": {},
   "outputs": [],
   "source": []
  }
 ],
 "metadata": {
  "kernelspec": {
   "display_name": "Python 3 (ipykernel)",
   "language": "python",
   "name": "python3"
  },
  "language_info": {
   "codemirror_mode": {
    "name": "ipython",
    "version": 3
   },
   "file_extension": ".py",
   "mimetype": "text/x-python",
   "name": "python",
   "nbconvert_exporter": "python",
   "pygments_lexer": "ipython3",
   "version": "3.8.8"
  }
 },
 "nbformat": 4,
 "nbformat_minor": 5
}
